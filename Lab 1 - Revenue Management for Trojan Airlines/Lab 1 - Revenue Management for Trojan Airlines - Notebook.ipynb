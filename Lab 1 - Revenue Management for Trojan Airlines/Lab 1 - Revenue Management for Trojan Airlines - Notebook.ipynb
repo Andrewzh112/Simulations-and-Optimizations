{
 "cells": [
  {
   "cell_type": "markdown",
   "metadata": {},
   "source": [
    "# Executive Summary\n",
    "Name: Andrew Zhao"
   ]
  },
  {
   "cell_type": "markdown",
   "metadata": {},
   "source": [
    "Trojan airlines is examining their price policy for the LAX to SFO flight every Thursday evening. The sell horizon is 180 days before departure. There are two main segments of customers: leisure and business. There are three main pricing strategies that were explored in this notebook. A constant pricing strategy that stays the same during the whole sell horizon. A dynamic pricing strategy which is charging a price 1 from day 180 to day 14, then changing it to some new price value price 2, where price 2 >= price 1. Finally, the last pricing strategy is the capacity rationing strategy where price 1 will be constant until there are l seats left. After that, price 2 will be charged. Again, price 1 <= price 2. \n",
    "\n",
    "After simulating the three strategies, the following results are found:\n",
    "~~~ \n",
    "Constant price policy : best p = 250, estimated expected profit = $2737.50.\n",
    "\n",
    "Dynamic price policy : best p1 = 240, best p2 = 315, estimated expected profit = $3448.60.\n",
    "\n",
    "Capacity rationing price policy : best p1 = 235, best p2 = 330, best l = 34, estimated expected profit = $3813.55.\n",
    "~~~\n",
    "\n",
    "From the results, we suggest Trojan airlines to deploy the capacity rationing price strategy, with constant price of 235 dollars until there are 34 seats left, then change the price to 330 dollars. The expected percentage gain in expected profit with this strategy compared to the constant price policy is 39.31%"
   ]
  },
  {
   "cell_type": "code",
   "execution_count": 423,
   "metadata": {},
   "outputs": [],
   "source": [
    "from scipy.stats import uniform\n",
    "from scipy.stats import binom\n",
    "from scipy.stats import norm\n",
    "import numpy as np\n",
    "import pandas as pd\n",
    "import matplotlib.pyplot as plt"
   ]
  },
  {
   "cell_type": "code",
   "execution_count": 424,
   "metadata": {},
   "outputs": [],
   "source": [
    "#leisure customers\n",
    "leisure_size = norm(200, 60)\n",
    "leisure_time = uniform(0, 180)\n",
    "leisure_pay = norm(200, 80)"
   ]
  },
  {
   "cell_type": "code",
   "execution_count": 425,
   "metadata": {},
   "outputs": [],
   "source": [
    "#business customers\n",
    "business_size = norm(60, 20)\n",
    "business_time = uniform(0, 14)\n",
    "business_pay = norm(350, 120)"
   ]
  },
  {
   "cell_type": "markdown",
   "metadata": {},
   "source": [
    "# Generate Customers DataFrame"
   ]
  },
  {
   "cell_type": "code",
   "execution_count": 426,
   "metadata": {
    "scrolled": true
   },
   "outputs": [
    {
     "data": {
      "text/html": [
       "<div>\n",
       "<style scoped>\n",
       "    .dataframe tbody tr th:only-of-type {\n",
       "        vertical-align: middle;\n",
       "    }\n",
       "\n",
       "    .dataframe tbody tr th {\n",
       "        vertical-align: top;\n",
       "    }\n",
       "\n",
       "    .dataframe thead th {\n",
       "        text-align: right;\n",
       "    }\n",
       "</style>\n",
       "<table border=\"1\" class=\"dataframe\">\n",
       "  <thead>\n",
       "    <tr style=\"text-align: right;\">\n",
       "      <th></th>\n",
       "      <th>arrival_time</th>\n",
       "      <th>valuation</th>\n",
       "      <th>Customer</th>\n",
       "    </tr>\n",
       "  </thead>\n",
       "  <tbody>\n",
       "    <tr>\n",
       "      <td>0</td>\n",
       "      <td>179.828075</td>\n",
       "      <td>244.118652</td>\n",
       "      <td>Leisure</td>\n",
       "    </tr>\n",
       "    <tr>\n",
       "      <td>1</td>\n",
       "      <td>178.027181</td>\n",
       "      <td>122.538949</td>\n",
       "      <td>Leisure</td>\n",
       "    </tr>\n",
       "    <tr>\n",
       "      <td>2</td>\n",
       "      <td>176.977640</td>\n",
       "      <td>250.343709</td>\n",
       "      <td>Leisure</td>\n",
       "    </tr>\n",
       "    <tr>\n",
       "      <td>3</td>\n",
       "      <td>175.279336</td>\n",
       "      <td>159.814127</td>\n",
       "      <td>Leisure</td>\n",
       "    </tr>\n",
       "    <tr>\n",
       "      <td>4</td>\n",
       "      <td>175.262610</td>\n",
       "      <td>273.015949</td>\n",
       "      <td>Leisure</td>\n",
       "    </tr>\n",
       "    <tr>\n",
       "      <td>...</td>\n",
       "      <td>...</td>\n",
       "      <td>...</td>\n",
       "      <td>...</td>\n",
       "    </tr>\n",
       "    <tr>\n",
       "      <td>232</td>\n",
       "      <td>1.528394</td>\n",
       "      <td>250.546443</td>\n",
       "      <td>Leisure</td>\n",
       "    </tr>\n",
       "    <tr>\n",
       "      <td>233</td>\n",
       "      <td>1.463071</td>\n",
       "      <td>315.626724</td>\n",
       "      <td>Business</td>\n",
       "    </tr>\n",
       "    <tr>\n",
       "      <td>234</td>\n",
       "      <td>1.398251</td>\n",
       "      <td>199.905238</td>\n",
       "      <td>Business</td>\n",
       "    </tr>\n",
       "    <tr>\n",
       "      <td>235</td>\n",
       "      <td>0.675448</td>\n",
       "      <td>179.005183</td>\n",
       "      <td>Business</td>\n",
       "    </tr>\n",
       "    <tr>\n",
       "      <td>236</td>\n",
       "      <td>0.657148</td>\n",
       "      <td>183.793887</td>\n",
       "      <td>Business</td>\n",
       "    </tr>\n",
       "  </tbody>\n",
       "</table>\n",
       "<p>237 rows × 3 columns</p>\n",
       "</div>"
      ],
      "text/plain": [
       "     arrival_time   valuation  Customer\n",
       "0      179.828075  244.118652   Leisure\n",
       "1      178.027181  122.538949   Leisure\n",
       "2      176.977640  250.343709   Leisure\n",
       "3      175.279336  159.814127   Leisure\n",
       "4      175.262610  273.015949   Leisure\n",
       "..            ...         ...       ...\n",
       "232      1.528394  250.546443   Leisure\n",
       "233      1.463071  315.626724  Business\n",
       "234      1.398251  199.905238  Business\n",
       "235      0.675448  179.005183  Business\n",
       "236      0.657148  183.793887  Business\n",
       "\n",
       "[237 rows x 3 columns]"
      ]
     },
     "execution_count": 426,
     "metadata": {},
     "output_type": "execute_result"
    }
   ],
   "source": [
    "def generateCustomers():\n",
    "    lei_size = leisure_size.rvs()\n",
    "    bus_size = business_size.rvs()\n",
    "    if lei_size < 0:\n",
    "        lei_size = 0\n",
    "    if bus_size < 0:\n",
    "        bus_size = 0\n",
    "    lei_time = leisure_time.rvs(size = int(lei_size))\n",
    "    lei_wp = leisure_pay.rvs(size = int(lei_size))\n",
    "    lei_stat = ['Leisure'] * int(lei_size)\n",
    "    bus_time = business_time.rvs(size = int(bus_size))\n",
    "    bus_wp = business_pay.rvs(size = int(bus_size))\n",
    "    bus_stat = ['Business'] * int(bus_size)\n",
    "    df1 = {'arrival_time': lei_time, 'valuation': lei_wp, 'Customer': lei_stat}\n",
    "    df2 = {'arrival_time': bus_time, 'valuation': bus_wp, 'Customer': bus_stat}\n",
    "    df1 = pd.DataFrame(df1)\n",
    "    df2 = pd.DataFrame(df2)\n",
    "    df = pd.concat([df1, df2])\n",
    "    df = df.sort_values('arrival_time',ascending = False)\n",
    "    df.reset_index(inplace = True)\n",
    "    df = df.drop('index', axis = 1)\n",
    "    return df\n",
    "generateCustomers()"
   ]
  },
  {
   "cell_type": "markdown",
   "metadata": {},
   "source": [
    "# Functions for three policies"
   ]
  },
  {
   "cell_type": "code",
   "execution_count": 428,
   "metadata": {},
   "outputs": [],
   "source": [
    "def simulateConstant(customers, seats, p):\n",
    "    customers.sort_values('arrival_time',ascending = False)\n",
    "    customers = customers[customers['valuation'] >= p].head(seats)\n",
    "    total_revenue = len(customers) * p\n",
    "    return total_revenue"
   ]
  },
  {
   "cell_type": "code",
   "execution_count": 473,
   "metadata": {},
   "outputs": [],
   "source": [
    "def simulateDynamic(customers, seats, p1, p2):\n",
    "    customers.sort_values('arrival_time',ascending = False)\n",
    "    customers180 = customers.copy()\n",
    "    customers180 = customers180[(customers180['valuation'] >= p1) & (customers180['arrival_time'] > 14)].head(seats)\n",
    "    seatsleft = seats - min(len(customers180), seats)\n",
    "    customers14 = customers.copy()\n",
    "    customers14 = customers14[(customers14['valuation'] >= p2) & (customers14['arrival_time'] <= 14)].head(seatsleft)\n",
    "    total_revenue = len(customers180) * p1 + len(customers14) * p2\n",
    "    return total_revenue"
   ]
  },
  {
   "cell_type": "code",
   "execution_count": 430,
   "metadata": {},
   "outputs": [],
   "source": [
    "def simulateRationing(customers, seats, p1, p2, l):\n",
    "    customers.sort_values('arrival_time',ascending = False)\n",
    "    customers_before = customers.copy()\n",
    "    customers_before = customers_before[(customers_before['valuation'] >= p1)]\n",
    "    customers_after = customers_before.iloc[seats - l:]\n",
    "    customers_before = customers_before.head(seats - l)\n",
    "    customers_after = customers_after[(customers_after['valuation'] >= p2)].head(l)\n",
    "    total_revenue = len(customers_before) * p1 + len(customers_after) * p2\n",
    "    return total_revenue"
   ]
  },
  {
   "cell_type": "markdown",
   "metadata": {},
   "source": [
    "# Simulation"
   ]
  },
  {
   "cell_type": "code",
   "execution_count": 439,
   "metadata": {},
   "outputs": [],
   "source": [
    "#fixed variables creation\n",
    "FIXED_COST = 20000\n",
    "FLIGHTSEATS = 100\n",
    "fixed_prices = [price for price in range(200, 350, 5)]\n",
    "seats_left = [seat for seat in range(20, 55, 1)]\n",
    "customer_scenarios = [generateCustomers() for _ in range(100)]"
   ]
  },
  {
   "cell_type": "markdown",
   "metadata": {},
   "source": [
    "### Constant pricing strategy"
   ]
  },
  {
   "cell_type": "code",
   "execution_count": 451,
   "metadata": {},
   "outputs": [
    {
     "name": "stdout",
     "output_type": "stream",
     "text": [
      "Constant price policy : best p = 250, estimated expected profit = $2737.50.\n"
     ]
    }
   ],
   "source": [
    "maxrevenueC = -float('inf')\n",
    "optpriceC = None\n",
    "for price in fixed_prices:\n",
    "    revenue_price = []\n",
    "    for scenario in customer_scenarios:\n",
    "        revenue = simulateConstant(scenario, seats = FLIGHTSEATS, p = price)\n",
    "        revenue_price.append(revenue)\n",
    "    revenue_mean = pd.Series(revenue_price).mean() - FIXED_COST\n",
    "    if revenue_mean > maxrevenueC:\n",
    "        maxrevenueC = revenue_mean\n",
    "        optpriceC = price\n",
    "print(f'Constant price policy : best p = {optpriceC}, estimated expected profit = ${maxrevenueC:.2f}.')"
   ]
  },
  {
   "cell_type": "markdown",
   "metadata": {},
   "source": [
    "### Dynamic Pricing Strategy"
   ]
  },
  {
   "cell_type": "code",
   "execution_count": 474,
   "metadata": {},
   "outputs": [
    {
     "name": "stdout",
     "output_type": "stream",
     "text": [
      "Dynamic price policy : best p1 = 240, best p2 = 315, estimated expected profit = $3448.60.\n"
     ]
    }
   ],
   "source": [
    "maxrevenueD = -float('inf')\n",
    "optpriceD = None\n",
    "optprice2D = None\n",
    "for price in fixed_prices:\n",
    "    for price2 in range(price, 350, 5):\n",
    "        revenue_price = []\n",
    "        for scenario in customer_scenarios:\n",
    "            revenue = simulateDynamic(scenario, seats = FLIGHTSEATS, p1 = price, p2 = price2)\n",
    "            revenue_price.append(revenue)\n",
    "        revenue_mean = pd.Series(revenue_price).mean() - FIXED_COST\n",
    "        if revenue_mean > maxrevenueD:\n",
    "            maxrevenueD = revenue_mean\n",
    "            optpriceD = price\n",
    "            optprice2D = price2\n",
    "print(f'Dynamic price policy : best p1 = {optpriceD}, best p2 = {optprice2D}, estimated expected profit = ${maxrevenueD:.2f}.')"
   ]
  },
  {
   "cell_type": "code",
   "execution_count": 452,
   "metadata": {},
   "outputs": [
    {
     "name": "stdout",
     "output_type": "stream",
     "text": [
      "The expected increase profit from the constant pricing strategy is 25.98%\n"
     ]
    }
   ],
   "source": [
    "Expected_Gain_D = maxrevenueD / (maxrevenueC) - 1\n",
    "print(f'The expected increase profit from the constant pricing strategy is {Expected_Gain_D * 100:.2f}%')"
   ]
  },
  {
   "cell_type": "markdown",
   "metadata": {},
   "source": [
    "### Capacity Rationing Pricing Strategy"
   ]
  },
  {
   "cell_type": "code",
   "execution_count": 442,
   "metadata": {},
   "outputs": [
    {
     "name": "stdout",
     "output_type": "stream",
     "text": [
      "Capacity rationing price policy : best p1 = 235, best p2 = 330, best l = 34, \n",
      "estimated expected profit = $3813.55.\n"
     ]
    }
   ],
   "source": [
    "maxrevenueR = -float('inf')\n",
    "optpriceR = None\n",
    "optprice2R = None\n",
    "optseats = None\n",
    "for price in fixed_prices:\n",
    "    for seat in seats_left:\n",
    "        for price2 in range(price, 350, 5):\n",
    "            revenue_price = []\n",
    "            for scenario in customer_scenarios:\n",
    "                revenue = simulateRationing(scenario, seats = FLIGHTSEATS, p1 = price, p2 = price2, l = seat)\n",
    "                revenue_price.append(revenue)\n",
    "            revenue_mean = pd.Series(revenue_price).mean() - FIXED_COST\n",
    "            if revenue_mean > maxrevenueR:\n",
    "                maxrevenueR = revenue_mean\n",
    "                optpriceR = price\n",
    "                optprice2R = price2\n",
    "                optseats = seat\n",
    "print(f'Capacity rationing price policy : best p1 = {optpriceR}, best p2 = {optprice2R}, best l = {optseats}, \\nestimated expected profit = ${maxrevenueR:.2f}.')"
   ]
  },
  {
   "cell_type": "code",
   "execution_count": 453,
   "metadata": {},
   "outputs": [
    {
     "name": "stdout",
     "output_type": "stream",
     "text": [
      "The expected increase profit from the constant pricing strategy is 39.31%\n"
     ]
    }
   ],
   "source": [
    "Expected_Gain_R = maxrevenueR / (maxrevenueC) - 1\n",
    "print(f'The expected increase profit from the constant pricing strategy is {Expected_Gain_R * 100:.2f}%')"
   ]
  },
  {
   "cell_type": "markdown",
   "metadata": {},
   "source": [
    "### Testing"
   ]
  },
  {
   "cell_type": "code",
   "execution_count": 455,
   "metadata": {},
   "outputs": [
    {
     "data": {
      "text/plain": [
       "<matplotlib.axes._subplots.AxesSubplot at 0x1fdccea0488>"
      ]
     },
     "execution_count": 455,
     "metadata": {},
     "output_type": "execute_result"
    },
    {
     "data": {
      "image/png": "[encoded data removed]",
      "text/plain": [
       "<Figure size 432x288 with 1 Axes>"
      ]
     },
     "metadata": {
      "needs_background": "light"
     },
     "output_type": "display_data"
    }
   ],
   "source": [
    "np.random.seed(0)\n",
    "pd.concat([generateCustomers() for i in range(20)])\\\n",
    ".plot(x = 'arrival_time', y = 'valuation', kind = 'scatter')"
   ]
  },
  {
   "cell_type": "code",
   "execution_count": 454,
   "metadata": {},
   "outputs": [
    {
     "name": "stdout",
     "output_type": "stream",
     "text": [
      "Constant policy with 2 seats p=50 \t: 100\n",
      "Constant policy with 2 seats p=100 \t: 100\n",
      "Dynamic policy with 3 seats p1=40, p2=95 \t: 175\n",
      "Dynamic policy with 2 seats p1=40, p2=95 \t: 80\n",
      "Dynamic policy with 1 seats p1=50, p2=100 \t: 50\n",
      "Rationing policy with 3 seats p1=40, p2=100, l=1 \t: 180\n",
      "Rationing policy with 2 seats p1=40, p2=100, l=1 \t: 140\n",
      "Rationing policy with 1 seats p1=40, p2=95, l=1 \t: 95\n"
     ]
    }
   ],
   "source": [
    "import pandas as pd\n",
    "data=[[170,50],[150,40],[13,95],[12,100]]\n",
    "customers=pd.DataFrame(data,columns=['arrival_time','valuation'])\n",
    "print('Constant policy with 2 seats p=50 \\t:',simulateConstant(customers,2,50))\n",
    "print('Constant policy with 2 seats p=100 \\t:',simulateConstant(customers,2,100))\n",
    "print('Dynamic policy with 3 seats p1=40, p2=95 \\t:',simulateDynamic(customers,3,40,95))\n",
    "print('Dynamic policy with 2 seats p1=40, p2=95 \\t:',simulateDynamic(customers,2,40,95))\n",
    "print('Dynamic policy with 1 seats p1=50, p2=100 \\t:',simulateDynamic(customers,1,50,100))\n",
    "print('Rationing policy with 3 seats p1=40, p2=100, l=1 \\t:',\\\n",
    "simulateRationing(customers,3,40,100,1))\n",
    "print('Rationing policy with 2 seats p1=40, p2=100, l=1 \\t:',\\\n",
    "simulateRationing(customers,2,40,100,1))\n",
    "print('Rationing policy with 1 seats p1=40, p2=95, l=1 \\t:',\\\n",
    "simulateRationing(customers,1,40,95,1))"
   ]
  }
 ],
 "metadata": {
  "kernelspec": {
   "display_name": "Python 3",
   "language": "python",
   "name": "python3"
  },
  "language_info": {
   "codemirror_mode": {
    "name": "ipython",
    "version": 3
   },
   "file_extension": ".py",
   "mimetype": "text/x-python",
   "name": "python",
   "nbconvert_exporter": "python",
   "pygments_lexer": "ipython3",
   "version": "3.7.6"
  },
  "toc": {
   "base_numbering": 1,
   "nav_menu": {},
   "number_sections": true,
   "sideBar": true,
   "skip_h1_title": false,
   "title_cell": "Table of Contents",
   "title_sidebar": "Contents",
   "toc_cell": false,
   "toc_position": {},
   "toc_section_display": true,
   "toc_window_display": false
  }
 },
 "nbformat": 4,
 "nbformat_minor": 4
}
