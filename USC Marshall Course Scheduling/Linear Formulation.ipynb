{
 "cells": [
  {
   "cell_type": "markdown",
   "metadata": {
    "colab_type": "text",
    "id": "_3cu_VlKETcA"
   },
   "source": [
    "**Data:**\n",
    "\n",
    "- $I$: the set of course. \n",
    "- $J$: the set of time slots.\n",
    "- $J1$: the set of time slots on Monday and Tuesday.\n",
    "- $J2$: the set of time slots on Firday.\n",
    "- $K$: the set of department.\n",
    "- $F$: the set of faculty.\n",
    "- $FS_{ij}$: the faculty's satisfaction score of assigning course $i \\in I$ into time slot $j \\in J$.\n",
    "- $SS_{ij}$: the student's satisfaction score of assigning course $i \\in I$ into time slot $j \\in J$.\n",
    "- $D_{ik}$: a binary indicator of whether course $i \\in I$ belongs to department $k \\in K$.\n",
    "- $w_z$: the weight assigned to fairness of faculty load.\n",
    "- $w_f$: the weight assigned to student's satisfaction.\n",
    "- $w_s$: the weight assigned to faculty's satisfaction.\n",
    "- $w_w$: the weight assigned to day of week balancer.\n",
    "- $n_k$: the number of courses in department $k \\in K$.\n",
    "- $U_i$: the units of course $i \\in I$.\n",
    "- $I_f$: a list of courses taught by faculty $f \\in F$.\n",
    "- $I_2$: a list of two-units courses.\n",
    "- $I_4$: a list of four-units courses.\n",
    "- $M$: set of morning time slots.\n",
    "- $s_{i}$: binary variable for if a course needs to be taught at night.\n",
    "- $G$: set of sets of courses with same profiles.\n",
    "- $W$: The set of day of the week.\n",
    "\n",
    "**Decision variables:** \n",
    "\n",
    "- $x_{ij}$: Whether to assign the course $i$ into time slot $j$. (Binary)\n",
    "- $up$: the upper level for average satisfaction. (Continuous)\n",
    "- $low$: the lower level of average satisfaction. (Continuous)\n",
    "- $Z$: Professor Overloading factor. (Integer)\n",
    "- $WWl$: Lower bound for class units per day of week except Friday. (Integer)\n",
    "- $WWu$: Upper bound for class units per day of week except Friday. (Integer)\n",
    "\n",
    "**Formulation:** \n",
    "\n",
    "$$\\begin{aligned}\n",
    "\\text{Minimize:} && up-low+w_zZ+w_w(WWu-WWl)& && \\text{(Satisfaction Score)}\\\\\n",
    "\\text{subject to:} \\\\\n",
    "\\text{(Department Balance)} && low \\le \\frac{\\sum_{i \\in I}\\sum_{j \\in J} (w_{f}FS_{ij}D_{ik}x_{ij}+w_{s}SS_{ij}D_{ik}x_{ij})}{n_k} & \\le up && \\text{for each department $k \\in K$.} \\\\\n",
    "\\text{(Faculty Time Conflict)} && \\sum_{i \\in I_f} x_{ij} & \\le 1 && \\text{for each time slot $j \\in J$ for each faculty $f \\in F$.}\\\\\n",
    "\\text{(Faculty Blackout)} && x_{ij} & \\le FS_{ij} && \\text{for each course $i \\in I$ for each time slot $j \\in J$.}\\\\\n",
    "\\text{(Unit Constrain)} && \\sum_{j \\in J} x_{ij} & = U_i && \\text{for each course $i \\in I$.}\\\\\n",
    "\\text{(Classroom Constrain)} && \\sum_{i \\in I} x_{ij} & \\le 25 && \\text{for each time slot $j \\in J$.} \\\\\n",
    "\\text{(Back to Back for Two Units Class)} && x_{ij_1}+x_{ij_2} &\\le 1 && \\text{for each pair of two non-adjacent time slots $j_1 \\in J$ and $j_2 \\in J$ for each two-units course $i \\in I_2$.} \\\\\n",
    "\\text{(Back to Back for Four Units Class)} && x_{ij_1}+x_{ij_2} &\\le 1 && \\text{for each pair of two non-adjacent time slots $j_1 \\in J1$ and $j_2 \\in J1$ for each four-units course $i \\in I_4$.} \\\\\n",
    "\\text{(Same Time Session for Four Units Class)} && x_{ij} &= x_{i(j+28)} && \\text{for each time slot$j \\in J1$ for each four-units course $i \\in I_4$} \\\\\n",
    "\\text{(No Class on Friday for Four Units Class)} && x_{ij} &= 0 && \\text{for each time slot$j \\in J2$ for each four-units course $i \\in I_4$} \\\\\n",
    "\\text{(Night class)} && x_{ij} &\\le 1-s_{i} && \\text{for $i \\in I$ for $j \\in M$} \\\\\n",
    "\\text{(Same core same time)} && \\sum_{i \\in g}x_{ij} &\\le 1 && \\text{for $g \\in G$ for $j \\in J$} \\\\\n",
    "\\text{(Faculty load)} && \\sum_{j \\in w}\\sum_{i \\in I_f}x_{ij} &\\le Z && \\text{for $f \\in F$ for $w \\in W$} \\\\\n",
    "\\text{(Day of week load balance)} && WWl\\le\\sum_{j \\in w}\\sum_{i \\in I}x_{ij} &\\le WWu && \\text{for $w \\in W - \\{Friday\\}$} \\\\\n",
    "\\end{aligned}$$"
   ]
  }
 ],
 "metadata": {
  "colab": {
   "collapsed_sections": [],
   "name": "Project - Linear Formulation.ipynb",
   "provenance": []
  },
  "kernelspec": {
   "display_name": "Python 3",
   "language": "python",
   "name": "python3"
  },
  "language_info": {
   "codemirror_mode": {
    "name": "ipython",
    "version": 3
   },
   "file_extension": ".py",
   "mimetype": "text/x-python",
   "name": "python",
   "nbconvert_exporter": "python",
   "pygments_lexer": "ipython3",
   "version": "3.7.6"
  }
 },
 "nbformat": 4,
 "nbformat_minor": 4
}
