{
 "cells": [
  {
   "cell_type": "markdown",
   "metadata": {},
   "source": [
    "**Executive Summary**\n",
    "\n",
    "Using the following LP, by incorporating all the 17 fulfilment centers, the program decides the capital resources to build small-scale capacity expansions at a few of its fulfilment centers. To maximize operational efficiency, top 5 facilities were chosen based on their greatest savings in order:\n",
    "- 'TPA1': -5.33\n",
    "- 'MKE1': -4.28\n",
    "- 'SDF8': -2.49\n",
    "- 'BDL1': -2.30\n",
    "- 'EWR4': -1.81\n",
    "\n",
    "The minimum total transportation cost for all items, subject to not exceeding the total capacity at each FC and fulfilling the weekly demand for each item from every region is $9,841,229.29"
   ]
  },
  {
   "cell_type": "markdown",
   "metadata": {},
   "source": [
    "**Abstract Formulation**\n",
    "\n",
    "**Data:** \n",
    "\n",
    "- $I$: the set of fulfilment centres. \n",
    "- $J$: the set of regions.\n",
    "- $K$: the set of items.\n",
    "- $w_k$: the shipping weight of the item $k$ (in lbs)\n",
    "- $\\delta_{ij}$: the distance from FC $i$ to region $j$ (in thousands of miles)\n",
    "- $d_{jk}$: the weekly demand for item $k$ in region $j$                                                                              \n",
    "- $s_k$: the storage size of item $k$ (in cubit feet) \n",
    "- $q_i$: the total capacity of FC $i$ (in cubit feet) \n",
    "\n",
    "**Decision Variables:** \n",
    "\n",
    "For each fulfilment centre $i \\in I$, each region $j \\in J$, each item $k \\in K$, let $x_{ijk}$ denote how many item $k$ to carry for region $j$ in filfillment centre $i$. (continuous)\n",
    "\n",
    "**Objective and constraints:**\n",
    "\n",
    "$$\\begin{aligned}\n",
    "\\text{Minimize:} && \\sum_{i \\in I} \\sum_{j \\in J} \\sum_{k \\in K} 1.38 w_k \\delta_{ij} x_{ijk}\\\\\n",
    "\\text{subject to:} \\\\\n",
    "\\text{(Demand)} && \\sum_{i \\in I} x_{ijk} & \\ge d_{jk} & \\text{ for each region $j \\in J$, for each item $k \\in K$.} \\\\\n",
    "\\text{(Capacity)} && \\sum_{k \\in K} \\sum_{j \\in J} x_{ijk}s_k & \\le q_i & \\text{ for each fulfilment centre $i \\in I$} \\\\\n",
    "\\text{(Non-negativity)} && x_{ijk} & \\ge 0 & \\text{for all $i$, $j$ and $k$.} \\\\\n",
    "\\end{aligned}$$"
   ]
  }
 ],
 "metadata": {
  "kernelspec": {
   "display_name": "Python 3",
   "language": "python",
   "name": "python3"
  },
  "language_info": {
   "codemirror_mode": {
    "name": "ipython",
    "version": 3
   },
   "file_extension": ".py",
   "mimetype": "text/x-python",
   "name": "python",
   "nbconvert_exporter": "python",
   "pygments_lexer": "ipython3",
   "version": "3.7.6"
  }
 },
 "nbformat": 4,
 "nbformat_minor": 4
}
