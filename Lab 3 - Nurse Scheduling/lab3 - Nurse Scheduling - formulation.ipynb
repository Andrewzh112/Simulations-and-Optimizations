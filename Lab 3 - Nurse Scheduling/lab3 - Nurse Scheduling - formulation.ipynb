{
 "cells": [
  {
   "cell_type": "code",
   "execution_count": 1,
   "metadata": {
    "jupyter": {
     "source_hidden": true
    }
   },
   "outputs": [],
   "source": [
    "def optimize(inputFile, outputFile):\n",
    "    import pandas as pd\n",
    "    prefs=pd.read_excel(inputFile,header=[0,1,2],sheet_name='Preferences',index_col=0)\n",
    "    names=prefs.index\n",
    "    shifts=prefs.columns\n",
    "    shift_id=shifts.get_level_values(2)\n",
    "    prefs.columns=shift_id\n",
    "    requirements = pd.read_excel(inputFile, sheet_name='Requirements',index_col=0)\n",
    "    \n",
    "    S = prefs.columns\n",
    "    I = prefs.index\n",
    "    N = int((len(shift_id)) / 21)\n",
    "    Nights = [n for n in range(2, (len(shift_id)-1), 3)]\n",
    "    l = shift_id[-1]\n",
    "    A1 = 4\n",
    "    q = 6\n",
    "    dshift = 21\n",
    "    \n",
    "    from gurobipy import Model, GRB\n",
    "    mod = Model()\n",
    "    x = mod.addVars(I,S,vtype=GRB.BINARY)\n",
    "    Lshift = mod.addVar(vtype=GRB.INTEGER)\n",
    "    Lnight = mod.addVar(vtype=GRB.INTEGER)\n",
    "    Ushift = mod.addVar(vtype=GRB.INTEGER)\n",
    "    Unight = mod.addVar(vtype=GRB.INTEGER)\n",
    "    mod.setObjective(sum(prefs.loc[i,s]*x[i,s] for i in I for s in S) - 100*(Ushift-Lshift) - 150*(Unight-Lnight),sense=GRB.MAXIMIZE)\n",
    "    for s in S:\n",
    "        mod.addConstr(sum(x[i,s] for i in I) == requirements.loc[s,'persons'])\n",
    "    for n in range(N):\n",
    "        for i in I:\n",
    "            mod.addConstr(sum(x[i,n*dshift+s] for s in range(dshift))<=q)\n",
    "    for i in I:\n",
    "        for s in range(1,l+1):\n",
    "            mod.addConstr(x[i,s-1]+x[i,s]<=1)\n",
    "    for i in I:\n",
    "        for s in Nights:\n",
    "            mod.addConstr(x[i,s-2]+x[i,s-1]+x[i,s+2]+x[i,s+1]<=A1*(1-x[i,s]))\n",
    "    for i in I:\n",
    "        mod.addConstr(x[i,l-2]+x[i,l-1]<=A1*(1-x[i,l]))\n",
    "    for i in I:\n",
    "        for s in S:\n",
    "            mod.addConstr(x[i,s]<=prefs.loc[i,s])\n",
    "    for i in I:\n",
    "        mod.addConstr(Lshift<=sum(x[i,s] for s in S))\n",
    "        mod.addConstr(sum(x[i,s] for s in S)<=Ushift)\n",
    "    for i in I:\n",
    "        mod.addConstr(Lnight<=sum(x[i,s] for s in Nights+[l]))\n",
    "        mod.addConstr(sum(x[i,s] for s in Nights+[l])<=Unight)\n",
    "    mod.setParam('OutputFlag',False)\n",
    "    mod.optimize()\n",
    "    \n",
    "    schedule=pd.DataFrame('',index=names,columns=shift_id)\n",
    "    for i in I:\n",
    "        for s in S:\n",
    "            if x[i,s].x:\n",
    "                schedule.loc[i,s] = x[i,s].x\n",
    "    schedule.columns=shifts\n",
    "\n",
    "    summary=pd.Series(name='Value')\n",
    "    summary['Objective']=mod.objval\n",
    "    summary['Total preference score']=sum(prefs.loc[i,s]*x[i,s].x for i in I for s in S)\n",
    "    summary['Shift inequality']=Ushift.x-Lshift.x\n",
    "    summary['Night inequality']=Unight.x-Lnight.x\n",
    "    summary\n",
    "\n",
    "    writer=pd.ExcelWriter(outputFile,datetime_format='m/dd')\n",
    "    schedule.to_excel(writer,sheet_name='Schedule')\n",
    "    summary.to_excel(writer,sheet_name='Summary')\n",
    "    writer.save()\n",
    "    \n",
    "    return"
   ]
  },
  {
   "cell_type": "code",
   "execution_count": 2,
   "metadata": {
    "collapsed": true,
    "jupyter": {
     "outputs_hidden": true,
     "source_hidden": true
    }
   },
   "outputs": [
    {
     "name": "stdout",
     "output_type": "stream",
     "text": [
      "Using license file C:\\Users\\andre\\gurobi.lic\n",
      "Academic license - for non-commercial use only\n"
     ]
    },
    {
     "name": "stderr",
     "output_type": "stream",
     "text": [
      "C:\\ProgramData\\Anaconda3\\lib\\site-packages\\ipykernel_launcher.py:59: DeprecationWarning: The default dtype for empty Series will be 'object' instead of 'float64' in a future version. Specify a dtype explicitly to silence this warning.\n"
     ]
    }
   ],
   "source": [
    "optimize('data.xlsx', 'output_for_data.xlsx')"
   ]
  },
  {
   "cell_type": "markdown",
   "metadata": {},
   "source": [
    "**Abstract Formulation**\n",
    "\n",
    "**Data:** \n",
    "\n",
    "- $S$: the set of shifts. \n",
    "- $I$: the set of nurses.\n",
    "- $l$: last shift to optimize, (a night shift)\n",
    "- $Nights$: the set of nights shifts, excluding the last night shift $l$. $\\{2,5,8, 11\\cdots,l-3\\}$\n",
    "- $p_{is}$: the preference of the nurse $i$ on shift $s$          \n",
    "- $r_{s}$: the number of nurses needed on shift $s$\n",
    "- $N$: set of weeks to optimize, (index 0)\n",
    "- $A_1$: huge arbitrary binding variable = 5\n",
    "- $W$: set of shifts per week, $\\{0,1,\\cdots,21\\}$\n",
    "- $q$: is the max shifts per week for any given nurse = 6\n",
    "- $d_{shift}$: number of shifts per week = 21\n",
    "\n",
    "**Decision Variables:** \n",
    "\n",
    "For each nurse $i \\in I$, each shift $s \\in S$, let $x_{is}$ denote whether the nurse $i$ is assigned the shift $s$ (1) or not (0). (binary)\n",
    "\n",
    "auxiliary variables: $L_{shift}$ to be the minimum number of shifts worked by any nurse and $U_{shift}$ to be the maximum number of shifts worked by any nurse\n",
    "\n",
    "auxiliary variables: $L_{night}$ to be the minimum number of night shifts worked by any nurse and $U_{night}$ to be the maximum number of night shifts worked by any nurse\n",
    "\n",
    "**Objective and constraints:**\n",
    "\n",
    "$$\\begin{aligned}\n",
    "\\text{Maximize:} && \\sum_{s \\in S} \\sum_{i \\in I} p_{is}x_{is} - 100(U_{shift} - L_{shift}) - 150(U_{night} - L_{night})\\\\\n",
    "\\text{subject to:} \\\\\n",
    "\\text{(Requirements)} && \\sum_{i \\in I} x_{is} & = r_{s} & \\text{for each shift $s \\in S$.} \\\\\n",
    "\\text{(Regulations)} && \\sum_{s \\in W} x_{i(n*d_{shift}+s)}  & \\le q & \\text{for all weeks $n \\in N$, for $i \\in I$, $s \\in \\{0,1,\\cdots,21\\}$.} \\\\\n",
    "\\text{(No consecutive)} && x_{i(s-1)} + x_{is} &\\le 1 & \\text{for each nurse $i \\in I$, for $s \\in \\{1,2,\\cdots,l\\}$.}  \\\\\n",
    "\\text{(Night shift rest)} && x_{i(s-2)}+x_{i(s-1)}+x_{i(s+1)}+x_{i(s+2)} &\\le A_1(1-x_{is}) & \\text{for all nurses $i \\in I$, for $s \\in Nights$} \\\\\n",
    "\\text{(Night shift rest2)} && x_{i(l-2)}+x_{i(l-1)} &\\le A_1(1-x_{il}) & \\text{for all nurses $i \\in I$} \\\\\n",
    "\\text{(Preference)} && x_{is} &\\le p_{is} & \\text{for each $s \\in S$ for each $i \\in I$.}  \\\\\n",
    "\\text{(Total shifts)} && L_{shift} \\le \\sum_{s \\in S} x_{is} &\\le U_{shift} & \\text{for all nurses $i \\in I$}  \\\\\n",
    "\\text{(Total night shifts)} && L_{night} \\le \\sum_{s \\in Nights ∪ \\{l\\}} x_{is} &\\le U_{night} & \\text{for all nurses $i \\in I$, $s \\in \\{2,5,8,\\cdots, l\\}$}\n",
    "\\end{aligned}$$"
   ]
  }
 ],
 "metadata": {
  "kernelspec": {
   "display_name": "Python 3",
   "language": "python",
   "name": "python3"
  },
  "language_info": {
   "codemirror_mode": {
    "name": "ipython",
    "version": 3
   },
   "file_extension": ".py",
   "mimetype": "text/x-python",
   "name": "python",
   "nbconvert_exporter": "python",
   "pygments_lexer": "ipython3",
   "version": "3.7.6"
  }
 },
 "nbformat": 4,
 "nbformat_minor": 4
}
